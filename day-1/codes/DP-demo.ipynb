{
 "cells": [
  {
   "cell_type": "markdown",
   "metadata": {},
   "source": [
    "# Basic Mechanisms\n",
    "\n",
    "Here we implement two basic mechanisms for differentially private data analysis. The first is the Laplace mechanism, and the second is the Gaussian mechanism. Both mechanisms are based on the idea of adding noise to the data before releasing it.\n",
    "\n",
    "First, lets create a synthetic dataset, which we will use to test our mechanisms."
   ]
  },
  {
   "cell_type": "code",
   "execution_count": 1,
   "metadata": {},
   "outputs": [
    {
     "data": {
      "text/plain": [
       "tensor([[0.8929, 0.3690, 0.7188,  ..., 0.6146, 0.8856, 0.5433],\n",
       "        [0.7029, 0.2046, 0.5899,  ..., 0.3408, 0.3652, 0.2121],\n",
       "        [0.2978, 0.7103, 0.2328,  ..., 0.8262, 0.1690, 0.3817],\n",
       "        ...,\n",
       "        [0.4219, 0.9580, 0.7470,  ..., 0.4380, 0.0022, 0.7373],\n",
       "        [0.7244, 0.7782, 0.1396,  ..., 0.1575, 0.8302, 0.9062],\n",
       "        [0.2815, 0.6724, 0.0678,  ..., 0.5069, 0.1926, 0.9870]])"
      ]
     },
     "execution_count": 1,
     "metadata": {},
     "output_type": "execute_result"
    }
   ],
   "source": [
    "import torch\n",
    "\n",
    "N = 1000                # Number of records\n",
    "K = 10                  # Number of features\n",
    "X = torch.rand(N, K)    # Data\n",
    "X"
   ]
  },
  {
   "cell_type": "markdown",
   "metadata": {},
   "source": [
    "Now, we define the function that we aim to privatize. In this case, we will use the sum of all the records in the dataset."
   ]
  },
  {
   "cell_type": "code",
   "execution_count": 2,
   "metadata": {},
   "outputs": [],
   "source": [
    "def sum_all(data):\n",
    "    return data.sum(dim=0)"
   ]
  },
  {
   "cell_type": "markdown",
   "metadata": {},
   "source": [
    "Let's see what the sum of the dataset is in the non-private setting:"
   ]
  },
  {
   "cell_type": "code",
   "execution_count": 3,
   "metadata": {},
   "outputs": [
    {
     "data": {
      "text/plain": [
       "tensor([499.9321, 499.0273, 490.0689, 492.0590, 512.1083, 519.6473, 496.4540,\n",
       "        501.9817, 501.0992, 511.8332])"
      ]
     },
     "execution_count": 3,
     "metadata": {},
     "output_type": "execute_result"
    }
   ],
   "source": [
    "sum_all(X)"
   ]
  },
  {
   "cell_type": "markdown",
   "metadata": {},
   "source": [
    "## Laplace Mechanism\n",
    "\n",
    "The Laplace mechanism adds Laplace noise to the output before releasing it. The Laplace mechanism is defined as follows:"
   ]
  },
  {
   "cell_type": "code",
   "execution_count": 4,
   "metadata": {},
   "outputs": [],
   "source": [
    "def lap_mech(data, func, sensitivity, epsilon):\n",
    "    '''Laplace mechanism for making a function differentially private\n",
    "\n",
    "    Args:\n",
    "        data: Dataset to which the function is applied\n",
    "        func: Function to apply to the data\n",
    "        sensitivity: L1 Sensitivity of the function\n",
    "        epsilon: Privacy parameter\n",
    "\n",
    "    Returns:\n",
    "        A differentially private version of the function's output\n",
    "    '''\n",
    "    return func(data) + torch.distributions.Laplace(loc=0, scale=sensitivity/epsilon).sample()"
   ]
  },
  {
   "cell_type": "markdown",
   "metadata": {},
   "source": [
    "Let's test the Laplace mechanism on our `sum_all` function. As each element of our dataset is between 0 and 1, adding or removing a record from the dataset will change the sum by at most 1 at each dimension. Having K dimensions, the L1 sensitivity of `sum_all` is thus K."
   ]
  },
  {
   "cell_type": "code",
   "execution_count": 5,
   "metadata": {},
   "outputs": [
    {
     "data": {
      "text/plain": [
       "tensor([494.3449, 493.4400, 484.4817, 486.4718, 506.5211, 514.0601, 490.8668,\n",
       "        496.3945, 495.5120, 506.2460])"
      ]
     },
     "execution_count": 5,
     "metadata": {},
     "output_type": "execute_result"
    }
   ],
   "source": [
    "senitivity = K\n",
    "epsilon = 1\n",
    "lap_mech(X, sum_all, senitivity, epsilon)"
   ]
  },
  {
   "cell_type": "markdown",
   "metadata": {},
   "source": [
    "## Gaussian Mechanism\n",
    "\n",
    "The Gaussian mechanism adds Gaussian noise to the output before releasing it. The Gaussian mechanism is defined as follows:"
   ]
  },
  {
   "cell_type": "code",
   "execution_count": 6,
   "metadata": {},
   "outputs": [],
   "source": [
    "import math\n",
    "\n",
    "def gaussian_mech(data, func, sensitivity, epsilon, delta):\n",
    "    '''Gaussian mechanism for making a function differentially private\n",
    "\n",
    "    Args:\n",
    "        data: Dataset to which the function is applied\n",
    "        func: Function to apply to the data\n",
    "        sensitivity: L2 Sensitivity of the function\n",
    "        epsilon: Privacy parameter\n",
    "        delta: Failure probability\n",
    "\n",
    "    Returns:\n",
    "        A differentially private version of the function's output\n",
    "    '''\n",
    "    sigma = sensitivity * math.sqrt(2 * math.log(1.25 / delta)) / epsilon\n",
    "    return torch.distributions.Normal(loc=func(data), scale=sigma).sample()"
   ]
  },
  {
   "cell_type": "markdown",
   "metadata": {},
   "source": [
    "Let's test the Gaussian mechanism on our `sum_all` function. As each element of our dataset is between 0 and 1, adding or removing a record from the dataset will change the sum by at most 1 at each dimension. Having K dimensions, the L2 sensitivity of sum_all is $\\sqrt{K}$."
   ]
  },
  {
   "cell_type": "code",
   "execution_count": 7,
   "metadata": {},
   "outputs": [
    {
     "data": {
      "text/plain": [
       "tensor([492.5835, 501.4439, 463.6763, 497.3094, 494.8914, 541.1539, 510.3267,\n",
       "        506.2322, 518.0912, 537.5726])"
      ]
     },
     "execution_count": 7,
     "metadata": {},
     "output_type": "execute_result"
    }
   ],
   "source": [
    "senstivity = math.sqrt(K)\n",
    "epsilon = 1\n",
    "delta = 1e-5\n",
    "gaussian_mech(X, sum_all, senstivity, epsilon, delta)"
   ]
  },
  {
   "cell_type": "markdown",
   "metadata": {},
   "source": [
    "The Gaussian mechanism is more accurate than the Laplace mechanism in higher dimensions, as the L2 sensitivity is smaller than the L1 sensitivity. Here, we empirically verify this by comparing the mean squared error of the output of the two mechanisms w.r.t the non-private output for varying dimensions while fixing the privacy budget."
   ]
  },
  {
   "cell_type": "code",
   "execution_count": 8,
   "metadata": {},
   "outputs": [
    {
     "data": {
      "text/plain": [
       "<AxesSubplot: xlabel='Dimension', ylabel='MSE'>"
      ]
     },
     "execution_count": 8,
     "metadata": {},
     "output_type": "execute_result"
    },
    {
     "data": {
      "image/png": "[encoded data removed]",
      "text/plain": [
       "<Figure size 640x480 with 1 Axes>"
      ]
     },
     "metadata": {},
     "output_type": "display_data"
    }
   ],
   "source": [
    "import pandas as pd\n",
    "import seaborn as sns\n",
    "\n",
    "\n",
    "# fixed parameters\n",
    "N = 1000\n",
    "epsilon = 1\n",
    "delta = 1e-5\n",
    "\n",
    "results = []    # list of results\n",
    "\n",
    "for K in range(5, 51, 5):\n",
    "    X = torch.rand(N, K)\n",
    "    non_priv_sum = sum_all(X)\n",
    "    num_trials = 1000\n",
    "\n",
    "    for t in range(num_trials):\n",
    "        priv_sum_lap = lap_mech(X, sum_all, sensitivity=K, epsilon=epsilon)\n",
    "        mse_lap = (non_priv_sum - priv_sum_lap).pow(2).mean().item()\n",
    "        results.append({'Dimension': K, 'MSE': mse_lap, 'Mechanism': 'Laplace'})\n",
    "\n",
    "        priv_sum_gauss = gaussian_mech(X, sum_all, sensitivity=math.sqrt(K), epsilon=epsilon, delta=delta)\n",
    "        mse_gauss = (non_priv_sum - priv_sum_gauss).pow(2).mean().item()\n",
    "        results.append({'Dimension': K, 'MSE': mse_gauss, 'Mechanism': 'Gaussian'})\n",
    "\n",
    "df = pd.DataFrame(results)\n",
    "sns.lineplot(data=df, x='Dimension', y='MSE', hue='Mechanism')"
   ]
  },
  {
   "cell_type": "markdown",
   "metadata": {},
   "source": [
    "We observe that under (1, 1e-5)-DP, the Gaussian mechanism is more accurate than the Laplace mechanism for K > 12."
   ]
  },
  {
   "cell_type": "markdown",
   "metadata": {},
   "source": [
    "# Privacy Accounting using AutoDP"
   ]
  },
  {
   "cell_type": "markdown",
   "metadata": {},
   "source": [
    "[AutoDP](https://github.com/yuxiangw/autodp) is a tool for accounting the privacy cost of differentially private mechanisms. In this section, we will show how to use AutoDP to compute the privacy cost of the DP-SGD algorithm."
   ]
  },
  {
   "cell_type": "markdown",
   "metadata": {},
   "source": [
    "We can use `pip` to install AutoDP directly from GitHub:"
   ]
  },
  {
   "cell_type": "code",
   "execution_count": null,
   "metadata": {},
   "outputs": [],
   "source": [
    "! pip install git+https://github.com/yuxiangw/autodp"
   ]
  },
  {
   "cell_type": "code",
   "execution_count": 9,
   "metadata": {},
   "outputs": [],
   "source": [
    "from autodp.mechanism_zoo import ExactGaussianMechanism\n",
    "from autodp.transformer_zoo import Composition, AmplificationBySampling"
   ]
  },
  {
   "cell_type": "markdown",
   "metadata": {},
   "source": [
    "Let's first fix the parameters of the DP-SGD algorithm:"
   ]
  },
  {
   "cell_type": "code",
   "execution_count": 10,
   "metadata": {},
   "outputs": [],
   "source": [
    "N = 10000                       # Number of data samples in the dataset\n",
    "B = 64                          # Batch size\n",
    "E = 100                         # Number of epochs\n",
    "C = 1                           # Clipping threshold\n",
    "sigma = 2                       # Noise standard deviation\n",
    "q = B / N                       # Probability of sampling each data point\n",
    "T = E * N // B                  # Total number of iterations"
   ]
  },
  {
   "cell_type": "markdown",
   "metadata": {},
   "source": [
    "Now, we create the DP-SGD mechanism using AutoDP step by step. In DP-SGD, at each iteration, the Gaussian mechanism is applied to the sum of the clipped gradients:"
   ]
  },
  {
   "cell_type": "code",
   "execution_count": 11,
   "metadata": {},
   "outputs": [],
   "source": [
    "gm = ExactGaussianMechanism(sigma=sigma / C)    # The sigma parameter in the ExactGaussianMechanism class is supposed to be the standard deviation\n",
    "                                                #   of the noise devided by the L2 sensitivity (here the clipping threshold)"
   ]
  },
  {
   "cell_type": "markdown",
   "metadata": {},
   "source": [
    "As we use mini-batch gradient descent with Batch size B, the about mechanism is applied to the sub-sampled batch instead of the whole dataset. To account for the sub-sampling, we apply the `AmplificationBySampling` transformer:"
   ]
  },
  {
   "cell_type": "code",
   "execution_count": 12,
   "metadata": {},
   "outputs": [],
   "source": [
    "subsample = AmplificationBySampling(PoissonSampling=True)           # Poisson sampling means sub-sampling with replacement\n",
    "subsampled_gm = subsample(gm, prob=q, improved_bound_flag=True)     # improved_bound_flag=True gives a tighter bound on the privacy loss"
   ]
  },
  {
   "cell_type": "markdown",
   "metadata": {},
   "source": [
    "Finally, we compose the subsampled Gaussian mechanism over T iterations:"
   ]
  },
  {
   "cell_type": "code",
   "execution_count": 13,
   "metadata": {},
   "outputs": [],
   "source": [
    "composition = Composition()\n",
    "composed_subsampled_gm = composition([subsampled_gm], [T])"
   ]
  },
  {
   "cell_type": "markdown",
   "metadata": {},
   "source": [
    "Now, we can compute the privacy cost (epsilon) of the DP-SGD algorithm given the `delta` parameter:"
   ]
  },
  {
   "cell_type": "code",
   "execution_count": 14,
   "metadata": {},
   "outputs": [
    {
     "name": "stdout",
     "output_type": "stream",
     "text": [
      "epsilon = 1.8342\n"
     ]
    },
    {
     "name": "stderr",
     "output_type": "stream",
     "text": [
      "/remote/idiap.svm/temp.social02/sajadmanesh/conda/envs/progdp/lib/python3.9/site-packages/scipy/optimize/_optimize.py:2769: RuntimeWarning: invalid value encountered in double_scalars\n",
      "  w = xb - ((xb - xc) * tmp2 - (xb - xa) * tmp1) / denom\n"
     ]
    }
   ],
   "source": [
    "epsilon = composed_subsampled_gm.get_approxDP(delta=1e-5)\n",
    "print(f'epsilon = {epsilon:.4f}')"
   ]
  },
  {
   "cell_type": "markdown",
   "metadata": {},
   "source": [
    "AutoDP offers a calibrator to calibrate the noise scale (or any other parameter) of a given mechanim (like DP-SGD) to achieve a desired privacy cost (epsilon). To this end, we first need to define a new class for our mechanism that inherits from AutoDP's `Mechanism` class, accepts a dictionary of parameters and an optional name as input, and creates the target mechanism based on the given parameters. Here, we define the following `NoisySGD` class for the DP-SGD algorithm:"
   ]
  },
  {
   "cell_type": "code",
   "execution_count": 15,
   "metadata": {},
   "outputs": [],
   "source": [
    "from autodp.mechanism_zoo import Mechanism\n",
    "\n",
    "\n",
    "class NoisySGD(Mechanism):\n",
    "    def __init__(self, params, name='NoisySGD'):\n",
    "        super().__init__()\n",
    "        self.params = params    # parameters of the mechanism\n",
    "        self.name = name        # name of the mechanism\n",
    "\n",
    "        # Similar to before, we create the DP-SGD mechanism using params\n",
    "        gm = ExactGaussianMechanism(sigma=params['sigma'] / params['C'])\n",
    "        subsample = AmplificationBySampling(PoissonSampling=True)\n",
    "        subsampled_gm = subsample(gm, prob=params['B']/params['N'], improved_bound_flag=True)\n",
    "        composition = Composition()\n",
    "        composed_subsampled_gm = composition([subsampled_gm], [params['E'] * params['N'] // params['B']])\n",
    "\n",
    "        # This step is important. We need to set this class's privacy representation equal to composed_subsampled_gm\n",
    "        self.set_all_representation(composed_subsampled_gm)"
   ]
  },
  {
   "cell_type": "markdown",
   "metadata": {},
   "source": [
    "Let's test the `NoisySGD` class to see if it yields the same privacy cost as the DP-SGD mechanism we created above:"
   ]
  },
  {
   "cell_type": "code",
   "execution_count": 16,
   "metadata": {},
   "outputs": [
    {
     "name": "stdout",
     "output_type": "stream",
     "text": [
      "epsilon = 1.8342\n"
     ]
    }
   ],
   "source": [
    "params = {'N': N, 'B': B, 'E': E, 'C': C, 'sigma': sigma}\n",
    "noisy_sgd = NoisySGD(params)\n",
    "epsilon = noisy_sgd.get_approxDP(delta=1e-5)\n",
    "print(f'epsilon = {epsilon:.4f}')"
   ]
  },
  {
   "cell_type": "markdown",
   "metadata": {},
   "source": [
    "Now we use the calibrator to find the `sigma` parameter such that the DP-SGD algorithm achieves (3, 1e-5)-DP:"
   ]
  },
  {
   "cell_type": "code",
   "execution_count": 17,
   "metadata": {},
   "outputs": [
    {
     "name": "stdout",
     "output_type": "stream",
     "text": [
      "Calibrated sigma = 1.3902\n",
      "epsilon = 3.0000\n"
     ]
    }
   ],
   "source": [
    "from autodp.calibrator_zoo import generalized_eps_delta_calibrator\n",
    "\n",
    "calibrator = generalized_eps_delta_calibrator()\n",
    "calibrated_noisy_sgd = calibrator(\n",
    "    mech_class=NoisySGD,            # The target mechanism class\n",
    "    eps=3,                          # Target epsilon value\n",
    "    delta=1e-5,                     # Target delta value\n",
    "    params=params,                  # Initial parameters of the mechanism\n",
    "    para_name='sigma',              # The parameter to be calibrated\n",
    "    bounds=[0, 10],                 # Bounds to seach for the optimal parameter\n",
    ")\n",
    "\n",
    "print(f'Calibrated sigma = {calibrated_noisy_sgd.params[\"sigma\"]:.4f}')\n",
    "epsilon = calibrated_noisy_sgd.get_approxDP(delta=1e-5)\n",
    "print(f'epsilon = {epsilon:.4f}')"
   ]
  },
  {
   "cell_type": "markdown",
   "metadata": {},
   "source": [
    "# Training ML models with DP using Opacus"
   ]
  },
  {
   "cell_type": "markdown",
   "metadata": {},
   "source": [
    "[Opacus](http://opacus.ai) is a library for training PyTorch ML models with differential privacy. In this section, we show how to use Opacus to train a ResNet18 model on the CIFAR10 dataset. This tutorial is adapted from the [Opacus tutorial](https://opacus.ai/tutorials/building_image_classifier)."
   ]
  },
  {
   "cell_type": "markdown",
   "metadata": {},
   "source": [
    "We can install Opacus using `pip`:"
   ]
  },
  {
   "cell_type": "code",
   "execution_count": null,
   "metadata": {},
   "outputs": [],
   "source": [
    "! pip install opacus"
   ]
  },
  {
   "cell_type": "markdown",
   "metadata": {},
   "source": [
    "Now, let's fix the hyper-parameters of the training process:"
   ]
  },
  {
   "cell_type": "code",
   "execution_count": 18,
   "metadata": {},
   "outputs": [],
   "source": [
    "import warnings\n",
    "warnings.simplefilter(\"ignore\")\n",
    "\n",
    "MAX_GRAD_NORM = 1.2     # Equivalent to the clipping threshold C\n",
    "EPSILON = 50.0\n",
    "DELTA = 1e-5\n",
    "EPOCHS = 20\n",
    "LR = 1e-3"
   ]
  },
  {
   "cell_type": "markdown",
   "metadata": {},
   "source": [
    "There's another constraint we should be mindful of&mdash;memory. The DP-SGD algorithm works better with larger batch-sizes ([De et. al, 2022](http://arxiv.org/abs/2204.13650)). However, larger batch-sizes quickly exhaust the GPU memory as we need to compute per-sample gradients that requirs O(BATCH_SIZE * NUM_PARAMS) memory. \n",
    "\n",
    "To balance peak memory requirement and training performance, we will be using `BatchMemoryManager`. It separates the logical batch size (which defines how often the model is updated and how much DP noise is added), and a physical batch size (which defines how many samples we process at a time).\n",
    "\n",
    "With BatchMemoryManager you will create your `DataLoader` with a logical batch size, and then provide the maximum physical batch size to the memory manager. This way, the memory manager will split the logical batch into multiple physical batches, and will process them one by one. Noise addition and model update will happen after each locagical batch."
   ]
  },
  {
   "cell_type": "code",
   "execution_count": 19,
   "metadata": {},
   "outputs": [],
   "source": [
    "BATCH_SIZE = 512\n",
    "MAX_PHYSICAL_BATCH_SIZE = 128"
   ]
  },
  {
   "cell_type": "markdown",
   "metadata": {},
   "source": [
    "## Data"
   ]
  },
  {
   "cell_type": "markdown",
   "metadata": {},
   "source": [
    "Now, let's load the CIFAR10 dataset. Note that for the data loaders, we use the logical batch size `BATCH_SIZE` instead of the physical batch size `PHYSICAL_BATCH_SIZE`. The physical batch size will be handled by the `BatchMemoryManager` later."
   ]
  },
  {
   "cell_type": "code",
   "execution_count": 20,
   "metadata": {},
   "outputs": [
    {
     "name": "stdout",
     "output_type": "stream",
     "text": [
      "Files already downloaded and verified\n",
      "Files already downloaded and verified\n"
     ]
    }
   ],
   "source": [
    "import torch\n",
    "import torchvision.transforms as transforms\n",
    "from torchvision.datasets import CIFAR10\n",
    "from torch.utils.data import DataLoader\n",
    "\n",
    "DATA_ROOT = 'datasets/'\n",
    "\n",
    "# These values, specific to the CIFAR10 dataset, are assumed to be known.\n",
    "# If necessary, they can be computed with modest privacy budgets.\n",
    "CIFAR10_MEAN = (0.4914, 0.4822, 0.4465)\n",
    "CIFAR10_STD_DEV = (0.2023, 0.1994, 0.2010)\n",
    "\n",
    "transform = transforms.Compose([\n",
    "    transforms.ToTensor(),\n",
    "    transforms.Normalize(CIFAR10_MEAN, CIFAR10_STD_DEV),\n",
    "])\n",
    "\n",
    "train_dataset = CIFAR10(root=DATA_ROOT, train=True, download=True, transform=transform)\n",
    "train_loader = DataLoader(train_dataset, batch_size=BATCH_SIZE)\n",
    "\n",
    "test_dataset = CIFAR10(root=DATA_ROOT, train=False, download=True, transform=transform)\n",
    "test_loader = DataLoader(test_dataset, batch_size=BATCH_SIZE, shuffle=False)"
   ]
  },
  {
   "cell_type": "markdown",
   "metadata": {},
   "source": [
    "## Model"
   ]
  },
  {
   "cell_type": "markdown",
   "metadata": {},
   "source": [
    "We use the ResNet18 model from `torchvision`."
   ]
  },
  {
   "cell_type": "code",
   "execution_count": 21,
   "metadata": {},
   "outputs": [],
   "source": [
    "from torchvision import models\n",
    "\n",
    "model = models.resnet18(num_classes=10)"
   ]
  },
  {
   "cell_type": "markdown",
   "metadata": {},
   "source": [
    "Now, let’s check if the model is compatible with Opacus. Opacus does not support all types of Pytorch layers. To check if your model is compatible with the privacy engine, we have provided a util class to validate your model.\n",
    "\n",
    "When you run the code below, you're presented with a list of errors, indicating which modules are incompatible."
   ]
  },
  {
   "cell_type": "code",
   "execution_count": 22,
   "metadata": {},
   "outputs": [
    {
     "data": {
      "text/plain": [
       "[opacus.validators.errors.ShouldReplaceModuleError(\"BatchNorm cannot support training with differential privacy. The reason for it is that BatchNorm makes each sample's normalized value depend on its peers in a batch, ie the same sample x will get normalized to a different value depending on who else is on its batch. Privacy-wise, this means that we would have to put a privacy mechanism there too. While it can in principle be done, there are now multiple normalization layers that do not have this issue: LayerNorm, InstanceNorm and their generalization GroupNorm are all privacy-safe since they don't have this property.We offer utilities to automatically replace BatchNorms to GroupNorms and we will release pretrained models to help transition, such as GN-ResNet ie a ResNet using GroupNorm, pretrained on ImageNet\"),\n",
       " opacus.validators.errors.ShouldReplaceModuleError(\"BatchNorm cannot support training with differential privacy. The reason for it is that BatchNorm makes each sample's normalized value depend on its peers in a batch, ie the same sample x will get normalized to a different value depending on who else is on its batch. Privacy-wise, this means that we would have to put a privacy mechanism there too. While it can in principle be done, there are now multiple normalization layers that do not have this issue: LayerNorm, InstanceNorm and their generalization GroupNorm are all privacy-safe since they don't have this property.We offer utilities to automatically replace BatchNorms to GroupNorms and we will release pretrained models to help transition, such as GN-ResNet ie a ResNet using GroupNorm, pretrained on ImageNet\"),\n",
       " opacus.validators.errors.ShouldReplaceModuleError(\"BatchNorm cannot support training with differential privacy. The reason for it is that BatchNorm makes each sample's normalized value depend on its peers in a batch, ie the same sample x will get normalized to a different value depending on who else is on its batch. Privacy-wise, this means that we would have to put a privacy mechanism there too. While it can in principle be done, there are now multiple normalization layers that do not have this issue: LayerNorm, InstanceNorm and their generalization GroupNorm are all privacy-safe since they don't have this property.We offer utilities to automatically replace BatchNorms to GroupNorms and we will release pretrained models to help transition, such as GN-ResNet ie a ResNet using GroupNorm, pretrained on ImageNet\"),\n",
       " opacus.validators.errors.ShouldReplaceModuleError(\"BatchNorm cannot support training with differential privacy. The reason for it is that BatchNorm makes each sample's normalized value depend on its peers in a batch, ie the same sample x will get normalized to a different value depending on who else is on its batch. Privacy-wise, this means that we would have to put a privacy mechanism there too. While it can in principle be done, there are now multiple normalization layers that do not have this issue: LayerNorm, InstanceNorm and their generalization GroupNorm are all privacy-safe since they don't have this property.We offer utilities to automatically replace BatchNorms to GroupNorms and we will release pretrained models to help transition, such as GN-ResNet ie a ResNet using GroupNorm, pretrained on ImageNet\"),\n",
       " opacus.validators.errors.ShouldReplaceModuleError(\"BatchNorm cannot support training with differential privacy. The reason for it is that BatchNorm makes each sample's normalized value depend on its peers in a batch, ie the same sample x will get normalized to a different value depending on who else is on its batch. Privacy-wise, this means that we would have to put a privacy mechanism there too. While it can in principle be done, there are now multiple normalization layers that do not have this issue: LayerNorm, InstanceNorm and their generalization GroupNorm are all privacy-safe since they don't have this property.We offer utilities to automatically replace BatchNorms to GroupNorms and we will release pretrained models to help transition, such as GN-ResNet ie a ResNet using GroupNorm, pretrained on ImageNet\")]"
      ]
     },
     "execution_count": 22,
     "metadata": {},
     "output_type": "execute_result"
    }
   ],
   "source": [
    "from opacus.validators import ModuleValidator\n",
    "\n",
    "errors = ModuleValidator.validate(model, strict=False)\n",
    "errors[-5:]"
   ]
  },
  {
   "cell_type": "markdown",
   "metadata": {},
   "source": [
    "Let us modify the model to work with Opacus. From the output above, you can see that the BatchNorm layers are not supported because they compute the mean and variance across the batch, creating a dependency between samples in a batch, a privacy violation.\n",
    "\n",
    "Recommended approach to deal with it is calling `ModuleValidator.fix(model)` - it tries to find the best replacement for incompatible modules. For example, for BatchNorm modules, it replaces them with GroupNorm.\n",
    "You can see, that after this, no exception is raised"
   ]
  },
  {
   "cell_type": "code",
   "execution_count": 23,
   "metadata": {},
   "outputs": [
    {
     "data": {
      "text/plain": [
       "[]"
      ]
     },
     "execution_count": 23,
     "metadata": {},
     "output_type": "execute_result"
    }
   ],
   "source": [
    "model = ModuleValidator.fix(model)\n",
    "ModuleValidator.validate(model, strict=False)"
   ]
  },
  {
   "cell_type": "markdown",
   "metadata": {},
   "source": [
    "For maximal speed, we can check if CUDA is available and supported by the PyTorch installation. If GPU is available, set the `device` variable to your CUDA-compatible device. We can then transfer the neural network onto that device."
   ]
  },
  {
   "cell_type": "code",
   "execution_count": 24,
   "metadata": {},
   "outputs": [],
   "source": [
    "device = torch.device(\"cuda\" if torch.cuda.is_available() else \"cpu\")\n",
    "model = model.to(device)"
   ]
  },
  {
   "cell_type": "markdown",
   "metadata": {},
   "source": [
    "We then define our optimizer and loss function. Opacus’ privacy engine can attach to any (first-order) optimizer.  You can use your favorite&mdash;Adam, Adagrad, RMSprop&mdash;as long as it has an implementation derived from [torch.optim.Optimizer](https://pytorch.org/docs/stable/optim.html). In this tutorial, we're going to use [RMSprop](https://pytorch.org/docs/stable/optim.html)."
   ]
  },
  {
   "cell_type": "code",
   "execution_count": 25,
   "metadata": {},
   "outputs": [],
   "source": [
    "import torch.nn as nn\n",
    "import torch.optim as optim\n",
    "\n",
    "criterion = nn.CrossEntropyLoss()\n",
    "optimizer = optim.RMSprop(model.parameters(), lr=LR)"
   ]
  },
  {
   "cell_type": "markdown",
   "metadata": {},
   "source": [
    "## Prepare for Training"
   ]
  },
  {
   "cell_type": "markdown",
   "metadata": {},
   "source": [
    "We will define a util function to calculate accuracy"
   ]
  },
  {
   "cell_type": "code",
   "execution_count": 26,
   "metadata": {},
   "outputs": [],
   "source": [
    "def accuracy(preds, labels):\n",
    "    return (preds == labels).mean()"
   ]
  },
  {
   "cell_type": "markdown",
   "metadata": {},
   "source": [
    "We now attach the privacy engine initialized with the privacy hyperparameters defined earlier."
   ]
  },
  {
   "cell_type": "code",
   "execution_count": 28,
   "metadata": {},
   "outputs": [
    {
     "name": "stdout",
     "output_type": "stream",
     "text": [
      "Using sigma=0.37197113037109375\n"
     ]
    }
   ],
   "source": [
    "from opacus import PrivacyEngine\n",
    "\n",
    "privacy_engine = PrivacyEngine()\n",
    "\n",
    "model, optimizer, train_loader = privacy_engine.make_private_with_epsilon(\n",
    "    module=model,\n",
    "    optimizer=optimizer,\n",
    "    data_loader=train_loader,\n",
    "    epochs=EPOCHS,\n",
    "    target_epsilon=EPSILON,\n",
    "    target_delta=DELTA,\n",
    "    max_grad_norm=MAX_GRAD_NORM,\n",
    ")\n",
    "\n",
    "print(f\"Using sigma={optimizer.noise_multiplier}\")\n"
   ]
  },
  {
   "cell_type": "markdown",
   "metadata": {},
   "source": [
    "We will then define our train function. This function will train the model for one epoch. Here we use the `BatchMemoryManager` to convert the data loader `train_loader` to a memory-safe data loader `memory_safe_data_loader`."
   ]
  },
  {
   "cell_type": "code",
   "execution_count": 29,
   "metadata": {},
   "outputs": [],
   "source": [
    "import numpy as np\n",
    "from opacus.utils.batch_memory_manager import BatchMemoryManager\n",
    "\n",
    "\n",
    "def train(model, train_loader, optimizer, epoch, device):\n",
    "    model.train()\n",
    "    criterion = nn.CrossEntropyLoss()\n",
    "\n",
    "    losses = []\n",
    "    top1_acc = []\n",
    "    \n",
    "    with BatchMemoryManager(\n",
    "        data_loader=train_loader, \n",
    "        max_physical_batch_size=MAX_PHYSICAL_BATCH_SIZE, \n",
    "        optimizer=optimizer\n",
    "    ) as memory_safe_data_loader:\n",
    "\n",
    "        for i, (images, target) in enumerate(memory_safe_data_loader):   \n",
    "            optimizer.zero_grad()\n",
    "            images = images.to(device)\n",
    "            target = target.to(device)\n",
    "\n",
    "            # compute output\n",
    "            output = model(images)\n",
    "            loss = criterion(output, target)\n",
    "\n",
    "            preds = np.argmax(output.detach().cpu().numpy(), axis=1)\n",
    "            labels = target.detach().cpu().numpy()\n",
    "\n",
    "            # measure accuracy and record loss\n",
    "            acc = accuracy(preds, labels)\n",
    "\n",
    "            losses.append(loss.item())\n",
    "            top1_acc.append(acc)\n",
    "\n",
    "            loss.backward()\n",
    "            optimizer.step()\n",
    "\n",
    "            if (i+1) % 200 == 0:\n",
    "                epsilon = privacy_engine.get_epsilon(DELTA)\n",
    "                print(\n",
    "                    f\"\\tTrain Epoch: {epoch} \\t\"\n",
    "                    f\"Loss: {np.mean(losses):.6f} \"\n",
    "                    f\"Acc@1: {np.mean(top1_acc) * 100:.6f} \"\n",
    "                    f\"(ε = {epsilon:.2f}, δ = {DELTA})\"\n",
    "                )"
   ]
  },
  {
   "cell_type": "markdown",
   "metadata": {},
   "source": [
    "Next, we will define our test function to validate our model on our test dataset. "
   ]
  },
  {
   "cell_type": "code",
   "execution_count": 30,
   "metadata": {},
   "outputs": [],
   "source": [
    "def test(model, test_loader, device):\n",
    "    model.eval()\n",
    "    criterion = nn.CrossEntropyLoss()\n",
    "    losses = []\n",
    "    top1_acc = []\n",
    "\n",
    "    with torch.no_grad():\n",
    "        for images, target in test_loader:\n",
    "            images = images.to(device)\n",
    "            target = target.to(device)\n",
    "\n",
    "            output = model(images)\n",
    "            loss = criterion(output, target)\n",
    "            preds = np.argmax(output.detach().cpu().numpy(), axis=1)\n",
    "            labels = target.detach().cpu().numpy()\n",
    "            acc = accuracy(preds, labels)\n",
    "\n",
    "            losses.append(loss.item())\n",
    "            top1_acc.append(acc)\n",
    "\n",
    "    top1_avg = np.mean(top1_acc)\n",
    "\n",
    "    print(\n",
    "        f\"\\tTest set:\"\n",
    "        f\"Loss: {np.mean(losses):.6f} \"\n",
    "        f\"Acc: {top1_avg * 100:.6f} \"\n",
    "    )\n",
    "    return np.mean(top1_acc)"
   ]
  },
  {
   "cell_type": "markdown",
   "metadata": {},
   "source": [
    "## Train the network"
   ]
  },
  {
   "cell_type": "code",
   "execution_count": null,
   "metadata": {},
   "outputs": [
    {
     "data": {
      "application/vnd.jupyter.widget-view+json": {
       "model_id": "2d307e32bc9c44099330c46aafafbfa9",
       "version_major": 2,
       "version_minor": 0
      },
      "text/plain": [
       "Epoch:   0%|          | 0/20 [00:00<?, ?epoch/s]"
      ]
     },
     "metadata": {},
     "output_type": "display_data"
    },
    {
     "name": "stdout",
     "output_type": "stream",
     "text": [
      "\tTrain Epoch: 1 \tLoss: 2.845050 Acc@1: 14.203841 (ε = 12.21, δ = 1e-05)\n",
      "\tTrain Epoch: 1 \tLoss: 2.406651 Acc@1: 21.317973 (ε = 14.64, δ = 1e-05)\n",
      "\tTrain Epoch: 2 \tLoss: 1.771367 Acc@1: 38.408665 (ε = 16.79, δ = 1e-05)\n",
      "\tTrain Epoch: 2 \tLoss: 1.743804 Acc@1: 40.674049 (ε = 18.34, δ = 1e-05)\n",
      "\tTrain Epoch: 3 \tLoss: 1.727064 Acc@1: 45.659264 (ε = 19.92, δ = 1e-05)\n",
      "\tTrain Epoch: 3 \tLoss: 1.737521 Acc@1: 46.235221 (ε = 21.18, δ = 1e-05)\n",
      "\tTrain Epoch: 4 \tLoss: 1.719044 Acc@1: 49.438898 (ε = 22.61, δ = 1e-05)\n",
      "\tTrain Epoch: 4 \tLoss: 1.709199 Acc@1: 50.202448 (ε = 23.71, δ = 1e-05)\n",
      "\tTrain Epoch: 5 \tLoss: 1.705325 Acc@1: 52.530885 (ε = 24.89, δ = 1e-05)\n",
      "\tTrain Epoch: 5 \tLoss: 1.692694 Acc@1: 53.125161 (ε = 25.87, δ = 1e-05)\n",
      "\tTrain Epoch: 6 \tLoss: 1.687639 Acc@1: 54.461010 (ε = 27.04, δ = 1e-05)\n",
      "\tTrain Epoch: 6 \tLoss: 1.683238 Acc@1: 54.522643 (ε = 27.97, δ = 1e-05)\n",
      "\tTrain Epoch: 7 \tLoss: 1.692552 Acc@1: 55.212898 (ε = 29.05, δ = 1e-05)\n",
      "\tTrain Epoch: 7 \tLoss: 1.681146 Acc@1: 55.607673 (ε = 29.91, δ = 1e-05)\n",
      "\tTrain Epoch: 8 \tLoss: 1.672273 Acc@1: 56.662268 (ε = 30.91, δ = 1e-05)\n",
      "\tTrain Epoch: 8 \tLoss: 1.655488 Acc@1: 57.186864 (ε = 31.74, δ = 1e-05)\n",
      "\tTrain Epoch: 9 \tLoss: 1.665122 Acc@1: 57.575831 (ε = 32.68, δ = 1e-05)\n",
      "\tTrain Epoch: 9 \tLoss: 1.648691 Acc@1: 58.065115 (ε = 33.46, δ = 1e-05)\n",
      "\tTrain Epoch: 10 \tLoss: 1.631178 Acc@1: 59.105627 (ε = 34.42, δ = 1e-05)\n",
      "\tTrain Epoch: 10 \tLoss: 1.634627 Acc@1: 59.113823 (ε = 35.17, δ = 1e-05)\n",
      "\tTrain Epoch: 11 \tLoss: 1.619702 Acc@1: 59.909493 (ε = 36.09, δ = 1e-05)\n",
      "\tTrain Epoch: 11 \tLoss: 1.630007 Acc@1: 59.878242 (ε = 36.82, δ = 1e-05)\n",
      "\tTrain Epoch: 12 \tLoss: 1.608781 Acc@1: 60.557488 (ε = 37.68, δ = 1e-05)\n",
      "\tTrain Epoch: 12 \tLoss: 1.592746 Acc@1: 60.872479 (ε = 38.37, δ = 1e-05)\n",
      "\tTrain Epoch: 13 \tLoss: 1.627354 Acc@1: 60.671828 (ε = 39.26, δ = 1e-05)\n",
      "\tTrain Epoch: 13 \tLoss: 1.607326 Acc@1: 61.190325 (ε = 39.96, δ = 1e-05)\n",
      "\tTrain Epoch: 14 \tLoss: 1.578170 Acc@1: 61.967479 (ε = 40.78, δ = 1e-05)\n",
      "\tTrain Epoch: 14 \tLoss: 1.586237 Acc@1: 61.748373 (ε = 41.45, δ = 1e-05)\n",
      "\tTrain Epoch: 15 \tLoss: 1.594677 Acc@1: 61.526901 (ε = 42.26, δ = 1e-05)\n",
      "\tTrain Epoch: 15 \tLoss: 1.599948 Acc@1: 61.699525 (ε = 42.93, δ = 1e-05)\n",
      "\tTrain Epoch: 16 \tLoss: 1.615219 Acc@1: 61.658493 (ε = 43.70, δ = 1e-05)\n",
      "\tTrain Epoch: 16 \tLoss: 1.601094 Acc@1: 61.883615 (ε = 44.34, δ = 1e-05)\n",
      "\tTrain Epoch: 17 \tLoss: 1.535456 Acc@1: 63.176297 (ε = 45.14, δ = 1e-05)\n",
      "\tTrain Epoch: 17 \tLoss: 1.556239 Acc@1: 63.084460 (ε = 45.80, δ = 1e-05)\n",
      "\tTrain Epoch: 18 \tLoss: 1.530963 Acc@1: 63.694548 (ε = 46.52, δ = 1e-05)\n",
      "\tTrain Epoch: 18 \tLoss: 1.551319 Acc@1: 63.600918 (ε = 47.16, δ = 1e-05)\n",
      "\tTrain Epoch: 19 \tLoss: 1.539542 Acc@1: 64.137032 (ε = 47.89, δ = 1e-05)\n",
      "\tTrain Epoch: 19 \tLoss: 1.539393 Acc@1: 64.258003 (ε = 48.52, δ = 1e-05)\n",
      "\tTrain Epoch: 20 \tLoss: 1.524360 Acc@1: 64.430340 (ε = 49.27, δ = 1e-05)\n",
      "\tTrain Epoch: 20 \tLoss: 1.532784 Acc@1: 64.305760 (ε = 49.86, δ = 1e-05)\n"
     ]
    }
   ],
   "source": [
    "from tqdm.notebook import tqdm\n",
    "\n",
    "for epoch in tqdm(range(EPOCHS), desc=\"Epoch\", unit=\"epoch\"):\n",
    "    train(model, train_loader, optimizer, epoch + 1, device)"
   ]
  },
  {
   "cell_type": "markdown",
   "metadata": {},
   "source": [
    "## Test the network on test data"
   ]
  },
  {
   "cell_type": "code",
   "execution_count": null,
   "metadata": {},
   "outputs": [
    {
     "name": "stdout",
     "output_type": "stream",
     "text": [
      "\tTest set:Loss: 1.711833 Acc: 60.753676 \n"
     ]
    }
   ],
   "source": [
    "top1_acc = test(model, test_loader, device)"
   ]
  }
 ],
 "metadata": {
  "kernelspec": {
   "display_name": "Python 3.9.13 ('progdp')",
   "language": "python",
   "name": "python3"
  },
  "language_info": {
   "codemirror_mode": {
    "name": "ipython",
    "version": 3
   },
   "file_extension": ".py",
   "mimetype": "text/x-python",
   "name": "python",
   "nbconvert_exporter": "python",
   "pygments_lexer": "ipython3",
   "version": "3.9.13"
  },
  "orig_nbformat": 4,
  "vscode": {
   "interpreter": {
    "hash": "9544b3dad2348a7d6246996d2a1c883c94b362f14bbf23264c49d3eeb2d341d5"
   }
  }
 },
 "nbformat": 4,
 "nbformat_minor": 2
}
